{
 "cells": [
  {
   "cell_type": "code",
   "execution_count": 83,
   "outputs": [],
   "source": [
    "from pathlib import Path\n",
    "import numpy as np\n",
    "import supervision as sv\n",
    "import pickle\n",
    "from tqdm.auto import tqdm\n",
    "import matplotlib.pyplot as plt\n",
    "import cv2\n",
    "from sklearn.cluster import KMeans\n",
    "import pandas as pd"
   ],
   "metadata": {
    "collapsed": false,
    "pycharm": {
     "name": "#%%\n"
    }
   }
  },
  {
   "cell_type": "code",
   "execution_count": 20,
   "outputs": [],
   "source": [
    "output_dir = Path('./output')\n",
    "frames_dir = Path('./frames')\n",
    "vid = \"1024B_Avatar_bowling_cut\"\n",
    "frame_list = sorted(list((frames_dir/vid).glob(\"*.png\")))\n",
    "frame_dict = {frame.name:frame for frame in frame_list}\n",
    "video_output_dir = output_dir/vid\n",
    "video_output_dir.mkdir(exist_ok=True)"
   ],
   "metadata": {
    "collapsed": false,
    "pycharm": {
     "name": "#%%\n"
    }
   }
  },
  {
   "cell_type": "code",
   "execution_count": 15,
   "outputs": [],
   "source": [
    "with open(output_dir/f\"{vid}_anno.pkl\",'rb') as f:\n",
    "    annotations = pickle.load(f)"
   ],
   "metadata": {
    "collapsed": false,
    "pycharm": {
     "name": "#%%\n"
    }
   }
  },
  {
   "cell_type": "code",
   "execution_count": 16,
   "outputs": [
    {
     "data": {
      "text/plain": "(array([  4.,   0.,   0.,   0.,   0.,   0.,   0.,   2.,   4.,   0.,   8.,\n         22.,   5.,   6.,   3.,   6.,  20.,  18.,  60., 142.]),\n array([0.        , 0.0457619 , 0.0915238 , 0.13728569, 0.18304759,\n        0.22880949, 0.27457139, 0.32033329, 0.36609519, 0.41185708,\n        0.45761898, 0.50338088, 0.54914278, 0.59490468, 0.64066657,\n        0.68642847, 0.73219037, 0.77795227, 0.82371417, 0.86947607,\n        0.91523796]),\n <BarContainer object of 20 artists>)"
     },
     "execution_count": 16,
     "metadata": {},
     "output_type": "execute_result"
    },
    {
     "data": {
      "text/plain": "<Figure size 640x480 with 1 Axes>",
      "image/png": "[encoded data removed]"
     },
     "metadata": {},
     "output_type": "display_data"
    }
   ],
   "source": [
    "# condif_list = []\n",
    "# for image_name,detections in annotations.items():\n",
    "#     if len(detections.confidence) >0:\n",
    "#         confid = max(detections.confidence)\n",
    "#     else:\n",
    "#         confid = 0.0\n",
    "#     condif_list.append(confid)\n",
    "# plt.hist(condif_list,bins=20)"
   ],
   "metadata": {
    "collapsed": false,
    "pycharm": {
     "name": "#%%\n"
    }
   }
  },
  {
   "cell_type": "code",
   "execution_count": 69,
   "outputs": [
    {
     "data": {
      "text/plain": "  0%|          | 0/300 [00:00<?, ?it/s]",
      "application/vnd.jupyter.widget-view+json": {
       "version_major": 2,
       "version_minor": 0,
       "model_id": "1e71664fed5a4c83aaf9a97af9a4b0ae"
      }
     },
     "metadata": {},
     "output_type": "display_data"
    }
   ],
   "source": [
    "for image_name,detections in tqdm(annotations.items()):\n",
    "    img_path = frame_dict[image_name]\n",
    "    if len(detections.confidence) ==0: continue\n",
    "    image = cv2.imread(str(img_path))\n",
    "    anno_id = np.argmax(detections.confidence)\n",
    "    conf = detections.confidence[anno_id]\n",
    "    if conf<=0.75: continue\n",
    "    xyxy = detections.xyxy[anno_id]\n",
    "    mask = detections.mask[anno_id]\n",
    "    # crop_img = image[int(xyxy[1]):int(xyxy[3]),int(xyxy[0]):int(xyxy[2])]\n",
    "    rgb_mask = np.stack((mask,)*3, axis=-1)\n",
    "    mask_img = image*rgb_mask\n",
    "    mask_img = mask_img[int(xyxy[1]):int(xyxy[3]),int(xyxy[0]):int(xyxy[2])]\n",
    "    cropped_mask = mask[int(xyxy[1]):int(xyxy[3]),int(xyxy[0]):int(xyxy[2])]\n",
    "    alpha = np.zeros_like(cropped_mask,dtype=np.uint8)\n",
    "    alpha[cropped_mask==True] = 255\n",
    "    result = cv2.cvtColor(mask_img,cv2.COLOR_BGR2BGRA)\n",
    "    result[:,:,3] = alpha\n",
    "    cv2.imwrite(str(video_output_dir/f'{image_name[:-4]}_mask.png'),result)"
   ],
   "metadata": {
    "collapsed": false,
    "pycharm": {
     "name": "#%%\n"
    }
   }
  },
  {
   "cell_type": "code",
   "execution_count": 92,
   "outputs": [
    {
     "data": {
      "text/plain": "  0%|          | 0/300 [00:00<?, ?it/s]",
      "application/vnd.jupyter.widget-view+json": {
       "version_major": 2,
       "version_minor": 0,
       "model_id": "08182aa10a9e4531b91c289d5de9905a"
      }
     },
     "metadata": {},
     "output_type": "display_data"
    }
   ],
   "source": [
    "def get_center(xyxy):\n",
    "    v_center = (xyxy[3]+xyxy[1]) /2\n",
    "    h_center = (xyxy[0]+xyxy[2]) / 2\n",
    "    return int(v_center),int(h_center)\n",
    "def cluster_to_label(centers):\n",
    "    c2l_dict = {}\n",
    "    c2l_dict[int(np.min(centers))] = 'detail'\n",
    "    c2l_dict[int(np.max(centers))] = 'menu'\n",
    "    c2l_dict[int(np.median(centers))] = 'avatar'\n",
    "    return c2l_dict\n",
    "image_ids = []\n",
    "centers = []\n",
    "for image_name,detections in tqdm(annotations.items()):\n",
    "    if len(detections.confidence) ==0: continue\n",
    "    anno_id = np.argmax(detections.confidence)\n",
    "    conf = detections.confidence[anno_id]\n",
    "    if conf<=0.75: continue\n",
    "    xyxy = detections.xyxy[anno_id]\n",
    "    image_ids.append(image_name)\n",
    "    centers.append(get_center(xyxy))\n",
    "km = KMeans(n_clusters=3,n_init=\"auto\")\n",
    "centers = np.array(centers)\n",
    "km.fit(centers[:,1].reshape((-1,1)))\n",
    "all_cluster_center = km.cluster_centers_[km.predict(centers[:,1].reshape((-1,1)))]\n",
    "c2l_dict = cluster_to_label(km.cluster_centers_)\n",
    "viewport = [c2l_dict[int(center[0])] for center in all_cluster_center]\n",
    "df = pd.DataFrame(data={'frame':image_ids,'viewport':viewport})"
   ],
   "metadata": {
    "collapsed": false,
    "pycharm": {
     "name": "#%%\n"
    }
   }
  },
  {
   "cell_type": "code",
   "execution_count": 101,
   "outputs": [],
   "source": [
    "df.to_csv(output_dir/f\"{vid}_result.csv\",index=False)"
   ],
   "metadata": {
    "collapsed": false,
    "pycharm": {
     "name": "#%%\n"
    }
   }
  },
  {
   "cell_type": "code",
   "execution_count": null,
   "outputs": [],
   "source": [],
   "metadata": {
    "collapsed": false,
    "pycharm": {
     "name": "#%%\n"
    }
   }
  }
 ],
 "metadata": {
  "kernelspec": {
   "display_name": "Python 3",
   "language": "python",
   "name": "python3"
  },
  "language_info": {
   "codemirror_mode": {
    "name": "ipython",
    "version": 2
   },
   "file_extension": ".py",
   "mimetype": "text/x-python",
   "name": "python",
   "nbconvert_exporter": "python",
   "pygments_lexer": "ipython2",
   "version": "2.7.6"
  }
 },
 "nbformat": 4,
 "nbformat_minor": 0
}