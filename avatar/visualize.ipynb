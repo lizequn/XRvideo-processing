{
 "cells": [
  {
   "cell_type": "code",
   "execution_count": 1,
   "metadata": {
    "collapsed": true,
    "pycharm": {
     "name": "#%%\n"
    }
   },
   "outputs": [],
   "source": [
    "from pathlib import Path\n",
    "\n",
    "import numpy as np\n",
    "import pandas as pd\n",
    "import cv2\n",
    "import imageio\n",
    "import matplotlib.pyplot as plt\n",
    "import io\n",
    "from tqdm.auto import tqdm"
   ]
  },
  {
   "cell_type": "code",
   "execution_count": 2,
   "outputs": [],
   "source": [
    "frame_folders = [f for f in Path('./frames').glob(\"*\") if f.is_dir() and '1025B' in f.name]\n",
    "output_folder = Path('./output')\n",
    "visualize_folder = Path('./visualize')"
   ],
   "metadata": {
    "collapsed": false,
    "pycharm": {
     "name": "#%%\n"
    }
   }
  },
  {
   "cell_type": "code",
   "execution_count": 3,
   "outputs": [],
   "source": [
    "def merge_file(cut_imgs,df1,df2):\n",
    "    ids = [img.name for img in cut_imgs]\n",
    "    df = pd.DataFrame(data={'frame':ids})\n",
    "    df = pd.merge(df,df1,on='frame',how='left')\n",
    "    df = pd.merge(df,df2,on='frame',how='left')\n",
    "    return df\n",
    "past_value=np.nan\n",
    "\n",
    "def fill_nan(value):\n",
    "    global past_value\n",
    "    if pd.isna(value):\n",
    "        return past_value\n",
    "    else:\n",
    "        past_value = value\n",
    "        return value\n",
    "\n",
    "def merge_mask(df,cut_imgs):\n",
    "    frame = [\"_\".join(img.name.split(\"_\")[:-1])+\".png\" for img in cut_imgs]\n",
    "    masks = [img.name for img in cut_imgs]\n",
    "    df1 = pd.DataFrame(data={'frame':frame,'masks':masks})\n",
    "    df = pd.merge(df,df1,on='frame',how='left')\n",
    "    return df"
   ],
   "metadata": {
    "collapsed": false,
    "pycharm": {
     "name": "#%%\n"
    }
   }
  },
  {
   "cell_type": "code",
   "execution_count": 4,
   "outputs": [],
   "source": [
    "frame_folder = frame_folders[1]\n",
    "vid = frame_folders[1].name\n",
    "frame_imgs = sorted(list(frame_folders[1].glob(\"*.png\")))\n",
    "cut_imgs = sorted(list((output_folder/vid).glob(\"*.png\")))\n",
    "anno_file = output_folder/f'{vid}_anno.pkl'\n",
    "view_file = output_folder/f'{vid}_result.csv'\n",
    "select_file = output_folder/f'{vid}_selection.csv'\n",
    "df_view = pd.read_csv(view_file)\n",
    "df_select = pd.read_csv(select_file)"
   ],
   "metadata": {
    "collapsed": false,
    "pycharm": {
     "name": "#%%\n"
    }
   }
  },
  {
   "cell_type": "code",
   "execution_count": 5,
   "outputs": [],
   "source": [
    "df = merge_file(frame_imgs,df_view,df_select)\n",
    "df = merge_mask(df,cut_imgs)\n",
    "past_value=np.nan\n",
    "df['viewport'] = df.viewport.apply(fill_nan)\n",
    "past_value=np.nan\n",
    "df['selection'] = df.selection.apply(fill_nan)\n",
    "past_value=np.nan\n",
    "df['masks'] = df.masks.apply(fill_nan)"
   ],
   "metadata": {
    "collapsed": false,
    "pycharm": {
     "name": "#%%\n"
    }
   }
  },
  {
   "cell_type": "code",
   "execution_count": 6,
   "outputs": [
    {
     "data": {
      "text/plain": "                                frame viewport selection masks\n0  1025B_Avatar_Workroom_cut_0001.png      NaN       NaN   NaN\n1  1025B_Avatar_Workroom_cut_0002.png      NaN       NaN   NaN\n2  1025B_Avatar_Workroom_cut_0003.png      NaN       NaN   NaN\n3  1025B_Avatar_Workroom_cut_0004.png      NaN       NaN   NaN\n4  1025B_Avatar_Workroom_cut_0005.png      NaN       NaN   NaN",
      "text/html": "<div>\n<style scoped>\n    .dataframe tbody tr th:only-of-type {\n        vertical-align: middle;\n    }\n\n    .dataframe tbody tr th {\n        vertical-align: top;\n    }\n\n    .dataframe thead th {\n        text-align: right;\n    }\n</style>\n<table border=\"1\" class=\"dataframe\">\n  <thead>\n    <tr style=\"text-align: right;\">\n      <th></th>\n      <th>frame</th>\n      <th>viewport</th>\n      <th>selection</th>\n      <th>masks</th>\n    </tr>\n  </thead>\n  <tbody>\n    <tr>\n      <th>0</th>\n      <td>1025B_Avatar_Workroom_cut_0001.png</td>\n      <td>NaN</td>\n      <td>NaN</td>\n      <td>NaN</td>\n    </tr>\n    <tr>\n      <th>1</th>\n      <td>1025B_Avatar_Workroom_cut_0002.png</td>\n      <td>NaN</td>\n      <td>NaN</td>\n      <td>NaN</td>\n    </tr>\n    <tr>\n      <th>2</th>\n      <td>1025B_Avatar_Workroom_cut_0003.png</td>\n      <td>NaN</td>\n      <td>NaN</td>\n      <td>NaN</td>\n    </tr>\n    <tr>\n      <th>3</th>\n      <td>1025B_Avatar_Workroom_cut_0004.png</td>\n      <td>NaN</td>\n      <td>NaN</td>\n      <td>NaN</td>\n    </tr>\n    <tr>\n      <th>4</th>\n      <td>1025B_Avatar_Workroom_cut_0005.png</td>\n      <td>NaN</td>\n      <td>NaN</td>\n      <td>NaN</td>\n    </tr>\n  </tbody>\n</table>\n</div>"
     },
     "execution_count": 6,
     "metadata": {},
     "output_type": "execute_result"
    }
   ],
   "source": [
    "df.head()"
   ],
   "metadata": {
    "collapsed": false,
    "pycharm": {
     "name": "#%%\n"
    }
   }
  },
  {
   "cell_type": "code",
   "execution_count": 7,
   "outputs": [
    {
     "name": "stderr",
     "output_type": "stream",
     "text": [
      "IMAGEIO FFMPEG_WRITER WARNING: input image is not divisible by macro_block_size=16, resizing from (720, 405) to (720, 416) to ensure video compatibility with most codecs and players. To prevent resizing, make your input image divisible by the macro_block_size or set the macro_block_size to 1 (risking incompatibility).\n"
     ]
    }
   ],
   "source": [
    "img_list=[]\n",
    "for index,line in df.iterrows():\n",
    "    img_path = frame_folder/line['frame']\n",
    "    img = cv2.imread(str(img_path))[:,:,::-1]\n",
    "    img_list.append(img)\n",
    "imageio.v2.mimwrite(visualize_folder/f'{vid}_org.mp4',img_list,fps=10)"
   ],
   "metadata": {
    "collapsed": false,
    "pycharm": {
     "name": "#%%\n"
    }
   }
  },
  {
   "cell_type": "code",
   "execution_count": 8,
   "outputs": [
    {
     "data": {
      "text/plain": "0it [00:00, ?it/s]",
      "application/vnd.jupyter.widget-view+json": {
       "version_major": 2,
       "version_minor": 0,
       "model_id": "2ec165098a4f437380d6afdc1efd4c6a"
      }
     },
     "metadata": {},
     "output_type": "display_data"
    }
   ],
   "source": [
    "img_list=[]\n",
    "x=['menu','avatar','detail']\n",
    "y=[0,0,0]\n",
    "for index,line in tqdm(df.iterrows()):\n",
    "    data = line['viewport']\n",
    "    if data=='menu':\n",
    "        y[0]+=1\n",
    "    elif data=='avatar':\n",
    "        y[1]+=1\n",
    "    elif data=='detail':\n",
    "        y[2]+=1\n",
    "    y_max = max(max(y),1)\n",
    "    fig,ax = plt.subplots()\n",
    "    ax.bar(x,y,width=1,edgecolor='white',linewidth=0.7)\n",
    "    ax.set(ylim=(0,y_max),yticks=np.arange(1,y_max+1,min(10,y_max+1)))\n",
    "    io_buf = io.BytesIO()\n",
    "    fig.savefig(io_buf, format='raw')\n",
    "    io_buf.seek(0)\n",
    "    img_arr = np.reshape(np.frombuffer(io_buf.getvalue(), dtype=np.uint8),\n",
    "                         newshape=(int(fig.bbox.bounds[3]), int(fig.bbox.bounds[2]), -1))\n",
    "    io_buf.close()\n",
    "    img_list.append(img_arr)\n",
    "    plt.close()\n",
    "imageio.v2.mimwrite(visualize_folder/f'{vid}_menu.mp4',img_list,fps=10)"
   ],
   "metadata": {
    "collapsed": false,
    "pycharm": {
     "name": "#%%\n"
    }
   }
  },
  {
   "cell_type": "code",
   "execution_count": 9,
   "outputs": [
    {
     "data": {
      "text/plain": "0it [00:00, ?it/s]",
      "application/vnd.jupyter.widget-view+json": {
       "version_major": 2,
       "version_minor": 0,
       "model_id": "454c3c29c2804dd3a227c3f919210718"
      }
     },
     "metadata": {},
     "output_type": "display_data"
    }
   ],
   "source": [
    "img_list=[]\n",
    "labels=[]\n",
    "y = []\n",
    "for index,line in tqdm(df.iterrows()):\n",
    "    data = line['selection']\n",
    "\n",
    "    if data not in labels:\n",
    "        labels.append(data)\n",
    "        y.append(1)\n",
    "    else:\n",
    "        y[labels.index(data)] +=1\n",
    "    fig,ax = plt.subplots()\n",
    "    ax.pie(y,labels=labels, autopct='%1.1f%%')\n",
    "    io_buf = io.BytesIO()\n",
    "    fig.savefig(io_buf, format='raw')\n",
    "    io_buf.seek(0)\n",
    "    img_arr = np.reshape(np.frombuffer(io_buf.getvalue(), dtype=np.uint8),\n",
    "                         newshape=(int(fig.bbox.bounds[3]), int(fig.bbox.bounds[2]), -1))\n",
    "    io_buf.close()\n",
    "    img_list.append(img_arr)\n",
    "    plt.close()\n",
    "imageio.v2.mimwrite(visualize_folder/f'{vid}_selection.mp4',img_list,fps=10)"
   ],
   "metadata": {
    "collapsed": false,
    "pycharm": {
     "name": "#%%\n"
    }
   }
  },
  {
   "cell_type": "code",
   "execution_count": 10,
   "outputs": [
    {
     "data": {
      "text/plain": "0it [00:00, ?it/s]",
      "application/vnd.jupyter.widget-view+json": {
       "version_major": 2,
       "version_minor": 0,
       "model_id": "3318de243db84bc796fee33210cefc4a"
      }
     },
     "metadata": {},
     "output_type": "display_data"
    },
    {
     "name": "stderr",
     "output_type": "stream",
     "text": [
      "IMAGEIO FFMPEG_WRITER WARNING: input image is not divisible by macro_block_size=16, resizing from (80, 220) to (80, 224) to ensure video compatibility with most codecs and players. To prevent resizing, make your input image divisible by the macro_block_size or set the macro_block_size to 1 (risking incompatibility).\n"
     ]
    }
   ],
   "source": [
    "img_list=[]\n",
    "for index,line in tqdm(df.iterrows()):\n",
    "    if pd.isna(line['masks']):\n",
    "        img_list.append(np.zeros([220,80,3],dtype=np.uint8))\n",
    "    else:\n",
    "        img_path = (output_folder/vid)/line['masks']\n",
    "        img = cv2.imread(str(img_path))\n",
    "        img = cv2.resize(img,(80,220))\n",
    "        img_list.append(img[:,:,::-1])\n",
    "imageio.v2.mimwrite(visualize_folder/f'{vid}_masks.mp4',img_list,fps=10)"
   ],
   "metadata": {
    "collapsed": false,
    "pycharm": {
     "name": "#%%\n"
    }
   }
  },
  {
   "cell_type": "code",
   "execution_count": 12,
   "outputs": [
    {
     "name": "stderr",
     "output_type": "stream",
     "text": [
      "IMAGEIO FFMPEG_WRITER WARNING: input image is not divisible by macro_block_size=16, resizing from (1920, 1080) to (1920, 1088) to ensure video compatibility with most codecs and players. To prevent resizing, make your input image divisible by the macro_block_size or set the macro_block_size to 1 (risking incompatibility).\n"
     ]
    }
   ],
   "source": [
    "img_list=[]\n",
    "fid='1025B_2'\n",
    "f_list = sorted(list((visualize_folder/f\"{fid}\").glob(\"*.png\")))\n",
    "for file in f_list:\n",
    "    img = cv2.imread(str(file))[:,:,::-1]\n",
    "    img_list.append(img)\n",
    "imageio.v2.mimwrite(visualize_folder/f'{fid}_org.mp4',img_list,fps=10)"
   ],
   "metadata": {
    "collapsed": false,
    "pycharm": {
     "name": "#%%\n"
    }
   }
  },
  {
   "cell_type": "code",
   "execution_count": null,
   "outputs": [],
   "source": [],
   "metadata": {
    "collapsed": false,
    "pycharm": {
     "name": "#%%\n"
    }
   }
  }
 ],
 "metadata": {
  "kernelspec": {
   "display_name": "Python 3",
   "language": "python",
   "name": "python3"
  },
  "language_info": {
   "codemirror_mode": {
    "name": "ipython",
    "version": 2
   },
   "file_extension": ".py",
   "mimetype": "text/x-python",
   "name": "python",
   "nbconvert_exporter": "python",
   "pygments_lexer": "ipython2",
   "version": "2.7.6"
  }
 },
 "nbformat": 4,
 "nbformat_minor": 0
}