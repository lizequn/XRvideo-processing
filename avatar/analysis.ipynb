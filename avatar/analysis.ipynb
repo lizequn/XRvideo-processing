{
 "cells": [
  {
   "cell_type": "code",
   "execution_count": 1,
   "metadata": {
    "collapsed": true,
    "pycharm": {
     "name": "#%%\n"
    }
   },
   "outputs": [],
   "source": [
    "import pickle\n",
    "from pathlib import Path\n",
    "import cv2\n",
    "import numpy as np\n",
    "import pandas as pd\n",
    "from tqdm.auto import tqdm\n",
    "import imageio\n",
    "import matplotlib.pyplot as plt"
   ]
  },
  {
   "cell_type": "code",
   "execution_count": 2,
   "outputs": [],
   "source": [
    "anno_files = [f for f in Path(\"./outputs\").glob(\"*.pkl\")]\n",
    "frame_folders = [f for f in Path(\"./frames\").glob(\"*\") if f.is_dir()]\n",
    "output_folder = Path(\"./outputs\")"
   ],
   "metadata": {
    "collapsed": false,
    "pycharm": {
     "name": "#%%\n"
    }
   }
  },
  {
   "cell_type": "code",
   "execution_count": 3,
   "outputs": [],
   "source": [
    "vid = \"120201\"\n",
    "output_folder = output_folder/vid\n",
    "output_folder.mkdir(exist_ok=True)"
   ],
   "metadata": {
    "collapsed": false,
    "pycharm": {
     "name": "#%%\n"
    }
   }
  },
  {
   "cell_type": "code",
   "execution_count": 4,
   "outputs": [],
   "source": [
    "def get_anno_by_vid(vid):\n",
    "    for file in anno_files:\n",
    "        if vid in str(file):\n",
    "            with open(file,'rb') as f:\n",
    "                return pickle.load(f)\n",
    "def get_frames_by_vid(vid):\n",
    "    for file in frame_folders:\n",
    "        if vid in str(file):\n",
    "            return list(file.glob(\"*.png\"))"
   ],
   "metadata": {
    "collapsed": false,
    "pycharm": {
     "name": "#%%\n"
    }
   }
  },
  {
   "cell_type": "code",
   "execution_count": 6,
   "outputs": [],
   "source": [
    "anno = get_anno_by_vid(vid)\n",
    "frames = get_frames_by_vid(vid)"
   ],
   "metadata": {
    "collapsed": false,
    "pycharm": {
     "name": "#%%\n"
    }
   }
  },
  {
   "cell_type": "code",
   "execution_count": 7,
   "outputs": [],
   "source": [
    "assert len(anno.keys()) == len(frames)"
   ],
   "metadata": {
    "collapsed": false,
    "pycharm": {
     "name": "#%%\n"
    }
   }
  },
  {
   "cell_type": "code",
   "execution_count": 34,
   "outputs": [],
   "source": [
    "# conf_list = []\n",
    "# for frame in frames:\n",
    "#     #image = cv2.imread(str(frame))\n",
    "#     key = frame.name\n",
    "#     det = anno[key]\n",
    "#     if len(det.confidence)>0:\n",
    "#         conf_list.append(max(det.confidence))"
   ],
   "metadata": {
    "collapsed": false,
    "pycharm": {
     "name": "#%%\n"
    }
   }
  },
  {
   "cell_type": "code",
   "execution_count": 35,
   "outputs": [
    {
     "data": {
      "text/plain": "<Figure size 640x480 with 1 Axes>",
      "image/png": "[encoded data removed]"
     },
     "metadata": {},
     "output_type": "display_data"
    }
   ],
   "source": [
    "# import matplotlib.pyplot as plt\n",
    "# counts, bins, _ = plt.hist(conf_list, bins=20)"
   ],
   "metadata": {
    "collapsed": false,
    "pycharm": {
     "name": "#%%\n"
    }
   }
  },
  {
   "cell_type": "code",
   "execution_count": 39,
   "outputs": [
    {
     "data": {
      "text/plain": "  0%|          | 0/1557 [00:00<?, ?it/s]",
      "application/vnd.jupyter.widget-view+json": {
       "version_major": 2,
       "version_minor": 0,
       "model_id": "64997f40a4ea43059e54cf6a9b150c0a"
      }
     },
     "metadata": {},
     "output_type": "display_data"
    }
   ],
   "source": [
    "def xyxy2center(xyxy):\n",
    "    x0,y0,x1,y1 = xyxy\n",
    "    xcenter = int((x0+x1)/2)\n",
    "    ycenter = int((y0+y1)/2)\n",
    "    return xcenter,ycenter\n",
    "center_dict={}\n",
    "for frame in tqdm(frames):\n",
    "    image = cv2.imread(str(frame))\n",
    "    key = frame.name\n",
    "    detections =anno[key]\n",
    "    if len(detections.confidence) ==0: continue\n",
    "    anno_id = np.argmax(detections.confidence)\n",
    "    conf = detections.confidence[anno_id]\n",
    "    if conf<=0.75: continue\n",
    "    xyxy = detections.xyxy[anno_id]\n",
    "    mask = detections.mask[anno_id]\n",
    "    xc,yc = xyxy2center(xyxy)\n",
    "    center_dict[key] = [xc,yc]\n",
    "    crop_img = image[int(xyxy[1]):int(xyxy[3]),int(xyxy[0]):int(xyxy[2])]\n",
    "    mask = np.stack((mask,)*3, axis=-1)\n",
    "    mask_img = image*mask\n",
    "    mask_img = mask_img[int(xyxy[1]):int(xyxy[3]),int(xyxy[0]):int(xyxy[2])]\n",
    "    cv2.imwrite(str(output_folder/f\"{key}_mask.png\"),mask_img)"
   ],
   "metadata": {
    "collapsed": false,
    "pycharm": {
     "name": "#%%\n"
    }
   }
  },
  {
   "cell_type": "code",
   "execution_count": 47,
   "outputs": [
    {
     "name": "stdout",
     "output_type": "stream",
     "text": [
      "(1024, 1024, 3)\n"
     ]
    }
   ],
   "source": [
    "image = cv2.imread(str(frames[0]))\n",
    "print(image.shape)\n",
    "bk = np.zeros_like(image)\n",
    "bk[bk==0] = 255"
   ],
   "metadata": {
    "collapsed": false,
    "pycharm": {
     "name": "#%%\n"
    }
   }
  },
  {
   "cell_type": "code",
   "execution_count": 65,
   "outputs": [
    {
     "data": {
      "text/plain": "  0%|          | 0/1557 [00:00<?, ?it/s]",
      "application/vnd.jupyter.widget-view+json": {
       "version_major": 2,
       "version_minor": 0,
       "model_id": "325cc377225b4630a66366f7f49f2141"
      }
     },
     "metadata": {},
     "output_type": "display_data"
    }
   ],
   "source": [
    "img_list = []\n",
    "center_x = []\n",
    "center_y = []\n",
    "for frame in tqdm(frames):\n",
    "    key = frame.name\n",
    "    img = bk.copy()\n",
    "    img = cv2.putText(img,frame.stem,(10,50),cv2.FONT_HERSHEY_SIMPLEX,1,(0,0,0),2,2)\n",
    "    if key in center_dict:\n",
    "        img = cv2.circle(img, center_dict[key], radius=5, color=(0, 0, 255), thickness=-1)\n",
    "        center_x.append(center_dict[key][0])\n",
    "        center_y.append(center_dict[key][1])\n",
    "    img_list.append(img)\n",
    "imageio.mimsave(str(output_folder/\"avatar.gif\"), img_list, duration=len(img_list)/20)"
   ],
   "metadata": {
    "collapsed": false,
    "pycharm": {
     "name": "#%%\n"
    }
   }
  },
  {
   "cell_type": "code",
   "execution_count": 8,
   "outputs": [
    {
     "data": {
      "text/plain": "  0%|          | 0/1557 [00:00<?, ?it/s]",
      "application/vnd.jupyter.widget-view+json": {
       "version_major": 2,
       "version_minor": 0,
       "model_id": "9c409db0d36f4ff095d414fb99922a62"
      }
     },
     "metadata": {},
     "output_type": "display_data"
    },
    {
     "data": {
      "text/plain": "  0%|          | 0/1557 [00:00<?, ?it/s]",
      "application/vnd.jupyter.widget-view+json": {
       "version_major": 2,
       "version_minor": 0,
       "model_id": "d0e11cd8c53b429790b820b5deca7361"
      }
     },
     "metadata": {},
     "output_type": "display_data"
    }
   ],
   "source": [
    "def xyxy2center(xyxy):\n",
    "    x0,y0,x1,y1 = xyxy\n",
    "    xcenter = int((x0+x1)/2)\n",
    "    ycenter = int((y0+y1)/2)\n",
    "    return xcenter,ycenter\n",
    "center_dict={}\n",
    "for frame in tqdm(frames):\n",
    "    key = frame.name\n",
    "    detections =anno[key]\n",
    "    if len(detections.confidence) ==0: continue\n",
    "    anno_id = np.argmax(detections.confidence)\n",
    "    conf = detections.confidence[anno_id]\n",
    "    if conf<=0.75: continue\n",
    "    xyxy = detections.xyxy[anno_id]\n",
    "    mask = detections.mask[anno_id]\n",
    "    xc,yc = xyxy2center(xyxy)\n",
    "    center_dict[key] = [xc,yc]\n",
    "center_X = []\n",
    "center_key = []\n",
    "for frame in tqdm(frames):\n",
    "    key = frame.name\n",
    "    if key in center_dict:\n",
    "        center_x = center_dict[key][0]\n",
    "        center_X.append(center_x)\n",
    "        center_key.append(key)"
   ],
   "metadata": {
    "collapsed": false,
    "pycharm": {
     "name": "#%%\n"
    }
   }
  },
  {
   "cell_type": "code",
   "execution_count": 12,
   "outputs": [
    {
     "name": "stderr",
     "output_type": "stream",
     "text": [
      "C:\\Users\\lzq91\\anaconda3\\envs\\HCIXR\\lib\\site-packages\\sklearn\\cluster\\_kmeans.py:1412: FutureWarning: The default value of `n_init` will change from 10 to 'auto' in 1.4. Set the value of `n_init` explicitly to suppress the warning\n",
      "  super()._check_params_vs_input(X, default_n_init=10)\n"
     ]
    },
    {
     "data": {
      "text/plain": "KMeans(n_clusters=3)",
      "text/html": "<style>#sk-container-id-1 {color: black;}#sk-container-id-1 pre{padding: 0;}#sk-container-id-1 div.sk-toggleable {background-color: white;}#sk-container-id-1 label.sk-toggleable__label {cursor: pointer;display: block;width: 100%;margin-bottom: 0;padding: 0.3em;box-sizing: border-box;text-align: center;}#sk-container-id-1 label.sk-toggleable__label-arrow:before {content: \"▸\";float: left;margin-right: 0.25em;color: #696969;}#sk-container-id-1 label.sk-toggleable__label-arrow:hover:before {color: black;}#sk-container-id-1 div.sk-estimator:hover label.sk-toggleable__label-arrow:before {color: black;}#sk-container-id-1 div.sk-toggleable__content {max-height: 0;max-width: 0;overflow: hidden;text-align: left;background-color: #f0f8ff;}#sk-container-id-1 div.sk-toggleable__content pre {margin: 0.2em;color: black;border-radius: 0.25em;background-color: #f0f8ff;}#sk-container-id-1 input.sk-toggleable__control:checked~div.sk-toggleable__content {max-height: 200px;max-width: 100%;overflow: auto;}#sk-container-id-1 input.sk-toggleable__control:checked~label.sk-toggleable__label-arrow:before {content: \"▾\";}#sk-container-id-1 div.sk-estimator input.sk-toggleable__control:checked~label.sk-toggleable__label {background-color: #d4ebff;}#sk-container-id-1 div.sk-label input.sk-toggleable__control:checked~label.sk-toggleable__label {background-color: #d4ebff;}#sk-container-id-1 input.sk-hidden--visually {border: 0;clip: rect(1px 1px 1px 1px);clip: rect(1px, 1px, 1px, 1px);height: 1px;margin: -1px;overflow: hidden;padding: 0;position: absolute;width: 1px;}#sk-container-id-1 div.sk-estimator {font-family: monospace;background-color: #f0f8ff;border: 1px dotted black;border-radius: 0.25em;box-sizing: border-box;margin-bottom: 0.5em;}#sk-container-id-1 div.sk-estimator:hover {background-color: #d4ebff;}#sk-container-id-1 div.sk-parallel-item::after {content: \"\";width: 100%;border-bottom: 1px solid gray;flex-grow: 1;}#sk-container-id-1 div.sk-label:hover label.sk-toggleable__label {background-color: #d4ebff;}#sk-container-id-1 div.sk-serial::before {content: \"\";position: absolute;border-left: 1px solid gray;box-sizing: border-box;top: 0;bottom: 0;left: 50%;z-index: 0;}#sk-container-id-1 div.sk-serial {display: flex;flex-direction: column;align-items: center;background-color: white;padding-right: 0.2em;padding-left: 0.2em;position: relative;}#sk-container-id-1 div.sk-item {position: relative;z-index: 1;}#sk-container-id-1 div.sk-parallel {display: flex;align-items: stretch;justify-content: center;background-color: white;position: relative;}#sk-container-id-1 div.sk-item::before, #sk-container-id-1 div.sk-parallel-item::before {content: \"\";position: absolute;border-left: 1px solid gray;box-sizing: border-box;top: 0;bottom: 0;left: 50%;z-index: -1;}#sk-container-id-1 div.sk-parallel-item {display: flex;flex-direction: column;z-index: 1;position: relative;background-color: white;}#sk-container-id-1 div.sk-parallel-item:first-child::after {align-self: flex-end;width: 50%;}#sk-container-id-1 div.sk-parallel-item:last-child::after {align-self: flex-start;width: 50%;}#sk-container-id-1 div.sk-parallel-item:only-child::after {width: 0;}#sk-container-id-1 div.sk-dashed-wrapped {border: 1px dashed gray;margin: 0 0.4em 0.5em 0.4em;box-sizing: border-box;padding-bottom: 0.4em;background-color: white;}#sk-container-id-1 div.sk-label label {font-family: monospace;font-weight: bold;display: inline-block;line-height: 1.2em;}#sk-container-id-1 div.sk-label-container {text-align: center;}#sk-container-id-1 div.sk-container {/* jupyter's `normalize.less` sets `[hidden] { display: none; }` but bootstrap.min.css set `[hidden] { display: none !important; }` so we also need the `!important` here to be able to override the default hidden behavior on the sphinx rendered scikit-learn.org. See: https://github.com/scikit-learn/scikit-learn/issues/21755 */display: inline-block !important;position: relative;}#sk-container-id-1 div.sk-text-repr-fallback {display: none;}</style><div id=\"sk-container-id-1\" class=\"sk-top-container\"><div class=\"sk-text-repr-fallback\"><pre>KMeans(n_clusters=3)</pre><b>In a Jupyter environment, please rerun this cell to show the HTML representation or trust the notebook. <br />On GitHub, the HTML representation is unable to render, please try loading this page with nbviewer.org.</b></div><div class=\"sk-container\" hidden><div class=\"sk-item\"><div class=\"sk-estimator sk-toggleable\"><input class=\"sk-toggleable__control sk-hidden--visually\" id=\"sk-estimator-id-1\" type=\"checkbox\" checked><label for=\"sk-estimator-id-1\" class=\"sk-toggleable__label sk-toggleable__label-arrow\">KMeans</label><div class=\"sk-toggleable__content\"><pre>KMeans(n_clusters=3)</pre></div></div></div></div></div>"
     },
     "execution_count": 12,
     "metadata": {},
     "output_type": "execute_result"
    }
   ],
   "source": [
    "from sklearn.cluster import KMeans\n",
    "km = KMeans(n_clusters=3)\n",
    "X = np.array(center_X)\n",
    "X = X.reshape((-1,1))\n",
    "km.fit(X)"
   ],
   "metadata": {
    "collapsed": false,
    "pycharm": {
     "name": "#%%\n"
    }
   }
  },
  {
   "cell_type": "code",
   "execution_count": 29,
   "outputs": [],
   "source": [
    "corr_label = {int(np.min(km.cluster_centers_)):'detail',int(np.max(km.cluster_centers_)):'menu',int(np.median(km.cluster_centers_)):'avatar'}"
   ],
   "metadata": {
    "collapsed": false,
    "pycharm": {
     "name": "#%%\n"
    }
   }
  },
  {
   "cell_type": "code",
   "execution_count": 30,
   "outputs": [],
   "source": [
    "cluster_X = km.cluster_centers_[km.predict(X)]"
   ],
   "metadata": {
    "collapsed": false,
    "pycharm": {
     "name": "#%%\n"
    }
   }
  },
  {
   "cell_type": "code",
   "execution_count": 31,
   "outputs": [],
   "source": [
    "label_X = [corr_label[int(x)] for x in cluster_X.flatten()]"
   ],
   "metadata": {
    "collapsed": false,
    "pycharm": {
     "name": "#%%\n"
    }
   }
  },
  {
   "cell_type": "code",
   "execution_count": 32,
   "outputs": [],
   "source": [
    "df = pd.DataFrame(data={'frame':center_key,'label':label_X})\n",
    "df.to_csv(f\"./outputs/{vid}_view_analysis.csv\",index=False)"
   ],
   "metadata": {
    "collapsed": false,
    "pycharm": {
     "name": "#%%\n"
    }
   }
  },
  {
   "cell_type": "code",
   "execution_count": 16,
   "outputs": [
    {
     "data": {
      "text/plain": "(array([566.,   0.,   0.,   0.,   0.,   0.,   0.,   0., 336.,   0.,   0.,\n          0.,   0.,   0.,   0.,   0.,   0.,   0.,   0., 205.]),\n array([197.14840989, 228.89172111, 260.63503232, 292.37834353,\n        324.12165474, 355.86496596, 387.60827717, 419.35158838,\n        451.09489959, 482.83821081, 514.58152202, 546.32483323,\n        578.06814445, 609.81145566, 641.55476687, 673.29807808,\n        705.0413893 , 736.78470051, 768.52801172, 800.27132293,\n        832.01463415]),\n <BarContainer object of 20 artists>)"
     },
     "execution_count": 16,
     "metadata": {},
     "output_type": "execute_result"
    },
    {
     "data": {
      "text/plain": "<Figure size 640x480 with 2 Axes>",
      "image/png": "[encoded data removed]"
     },
     "metadata": {},
     "output_type": "display_data"
    }
   ],
   "source": [
    "fig,axs = plt.subplots(1,2)\n",
    "axs[0].hist(center_X, bins=20)\n",
    "axs[1].hist(cluster_X,bins=20)"
   ],
   "metadata": {
    "collapsed": false,
    "pycharm": {
     "name": "#%%\n"
    }
   }
  },
  {
   "cell_type": "code",
   "execution_count": null,
   "outputs": [],
   "source": [],
   "metadata": {
    "collapsed": false,
    "pycharm": {
     "name": "#%%\n"
    }
   }
  }
 ],
 "metadata": {
  "kernelspec": {
   "display_name": "Python 3",
   "language": "python",
   "name": "python3"
  },
  "language_info": {
   "codemirror_mode": {
    "name": "ipython",
    "version": 2
   },
   "file_extension": ".py",
   "mimetype": "text/x-python",
   "name": "python",
   "nbconvert_exporter": "python",
   "pygments_lexer": "ipython2",
   "version": "2.7.6"
  }
 },
 "nbformat": 4,
 "nbformat_minor": 0
}