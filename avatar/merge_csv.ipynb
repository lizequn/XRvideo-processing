{
 "cells": [
  {
   "cell_type": "code",
   "execution_count": 1,
   "outputs": [],
   "source": [
    "from pathlib import Path\n",
    "\n",
    "import numpy as np\n",
    "import pandas as pd\n",
    "from tqdm.auto import tqdm"
   ],
   "metadata": {
    "collapsed": false,
    "pycharm": {
     "name": "#%%\n"
    }
   }
  },
  {
   "cell_type": "code",
   "execution_count": 5,
   "outputs": [],
   "source": [
    "frame_folders = [f for f in Path('./frames').glob(\"*\") if f.is_dir()]\n",
    "output_folder = Path('./output')\n",
    "final_csv = Path('./final_csv')\n",
    "final_csv.mkdir(exist_ok=True)"
   ],
   "metadata": {
    "collapsed": false,
    "pycharm": {
     "name": "#%%\n"
    }
   }
  },
  {
   "cell_type": "code",
   "execution_count": 6,
   "outputs": [],
   "source": [
    "def merge_file(cut_imgs,df1,df2):\n",
    "    ids = [img.name for img in cut_imgs]\n",
    "    df = pd.DataFrame(data={'frame':ids})\n",
    "    df = pd.merge(df,df1,on='frame',how='left')\n",
    "    df = pd.merge(df,df2,on='frame',how='left')\n",
    "    return df\n",
    "past_value=np.nan\n",
    "\n",
    "def fill_nan(value):\n",
    "    global past_value\n",
    "    if pd.isna(value):\n",
    "        return past_value\n",
    "    else:\n",
    "        past_value = value\n",
    "        return value"
   ],
   "metadata": {
    "collapsed": false,
    "pycharm": {
     "name": "#%%\n"
    }
   }
  },
  {
   "cell_type": "code",
   "execution_count": 7,
   "outputs": [
    {
     "data": {
      "text/plain": "  0%|          | 0/23 [00:00<?, ?it/s]",
      "application/vnd.jupyter.widget-view+json": {
       "version_major": 2,
       "version_minor": 0,
       "model_id": "bf1ae2eb5009482b817bd81b1c695877"
      }
     },
     "metadata": {},
     "output_type": "display_data"
    }
   ],
   "source": [
    "for frame_folder in tqdm(frame_folders):\n",
    "    vid = frame_folder.name\n",
    "    frame_imgs = sorted(list(frame_folder.glob(\"*.png\")))\n",
    "    anno_file = output_folder/f'{vid}_anno.pkl'\n",
    "    view_file = output_folder/f'{vid}_result.csv'\n",
    "    select_file = output_folder/f'{vid}_selection.csv'\n",
    "    df_view = pd.read_csv(view_file)\n",
    "    df_select = pd.read_csv(select_file)\n",
    "    df = merge_file(frame_imgs,df_view,df_select)\n",
    "    past_value=np.nan\n",
    "    df['viewport'] = df.viewport.apply(fill_nan)\n",
    "    past_value=np.nan\n",
    "    df['selection'] = df.selection.apply(fill_nan)\n",
    "    df.to_csv(final_csv/f'{vid}.csv',index=False)"
   ],
   "metadata": {
    "collapsed": false,
    "pycharm": {
     "name": "#%%\n"
    }
   }
  },
  {
   "cell_type": "code",
   "execution_count": null,
   "outputs": [],
   "source": [],
   "metadata": {
    "collapsed": false,
    "pycharm": {
     "name": "#%%\n"
    }
   }
  }
 ],
 "metadata": {
  "kernelspec": {
   "display_name": "Python 3",
   "language": "python",
   "name": "python3"
  },
  "language_info": {
   "codemirror_mode": {
    "name": "ipython",
    "version": 2
   },
   "file_extension": ".py",
   "mimetype": "text/x-python",
   "name": "python",
   "nbconvert_exporter": "python",
   "pygments_lexer": "ipython2",
   "version": "2.7.6"
  }
 },
 "nbformat": 4,
 "nbformat_minor": 0
}